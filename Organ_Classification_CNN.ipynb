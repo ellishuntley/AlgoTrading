{
  "nbformat": 4,
  "nbformat_minor": 0,
  "metadata": {
    "colab": {
      "provenance": [],
      "include_colab_link": true
    },
    "kernelspec": {
      "name": "python3",
      "display_name": "Python 3"
    },
    "language_info": {
      "name": "python"
    },
    "accelerator": "GPU",
    "gpuClass": "standard"
  },
  "cells": [
    {
      "cell_type": "markdown",
      "metadata": {
        "id": "view-in-github",
        "colab_type": "text"
      },
      "source": [
        "<a href=\"https://colab.research.google.com/github/ellishuntley/AlgoTrading/blob/main/Organ_Classification_CNN.ipynb\" target=\"_parent\"><img src=\"https://colab.research.google.com/assets/colab-badge.svg\" alt=\"Open In Colab\"/></a>"
      ]
    },
    {
      "cell_type": "markdown",
      "source": [
        "# Medical Image Analysis using Convolutional Neural Networks (CNN)\n",
        "\n",
        "<a href=\"https://colab.research.google.com/drive/1kDWxnUOGTzs6Sa4ceiaYO02cKZnAWATe?usp=sharing\" target=\"_parent\"><img src=\"https://colab.research.google.com/assets/colab-badge.svg\" alt=\"Open In Colab\"/></a>\n",
        "\n",
        
      ],
      "metadata": {
        "id": "vwUujYGGNDcg"
      }
    },
    {
      "cell_type": "markdown",
      "source": [
        "## 😩 **Preliminaries:** Install and import modules and define helper functions"
      ],
      "metadata": {
        "id": "wfzRmVYIgnTI"
      }
    },
    {
      "cell_type": "markdown",
      "source": [
        "**Using a GPU**\n",
        "\n",
        "To connect to a virtual machine (VM) with a GPU, you can follow either\n",
        "\n",
        "* **Edit > Notebook settings**, or\n",
        "* **Runtime > Change runtime type**\n",
        "\n",
        "and choose GPU."
      ],
      "metadata": {
        "id": "GeszBhvJzymU"
      }
    },
    {
      "cell_type": "code",
      "execution_count": null,
      "metadata": {
        "id": "ZwQPPqskLLDN"
      },
      "outputs": [],
      "source": [
        "!pip install medmnist==2.1.0"
      ]
    },
    {
      "cell_type": "code",
      "source": [
        "import os\n",
        "import random\n",
        "import numpy as np\n",
        "import matplotlib.pyplot as plt\n",
        "from tqdm.notebook import tqdm, trange\n",
        "\n",
        "import torch\n",
        "import torch.nn as nn\n",
        "from torch.utils.data import Dataset, DataLoader\n",
        "import torchvision\n",
        "from torchvision import transforms\n",
        "from torch.utils.tensorboard import SummaryWriter\n",
        "\n",
        "import medmnist\n",
        "from medmnist import INFO"
      ],
      "metadata": {
        "id": "ybOEqPPjMigi"
      },
      "execution_count": null,
      "outputs": []
    },
    {
      "cell_type": "code",
      "source": [
        "ROOT = './MedicalMNIST'\n",
        "if os.path.exists(ROOT) == False:\n",
        "  os.mkdir(ROOT)"
      ],
      "metadata": {
        "id": "mfQe4rMcK3O2"
      },
      "execution_count": null,
      "outputs": []
    },
    {
      "cell_type": "code",
      "source": [
        "device = torch.device('cuda' if torch.cuda.is_available() else 'cpu')\n",
        "print(\"Using device:\", device)"
      ],
      "metadata": {
        "id": "VWdiEdHmj_ai"
      },
      "execution_count": null,
      "outputs": []
    },
    {
      "cell_type": "markdown",
      "source": [
        "⚠️Make sure device is `cuda` (GPU)"
      ],
      "metadata": {
        "id": "3sAzS_2XPZXA"
      }
    },
    {
      "cell_type": "code",
      "source": [
        "# @title [RUN = Shift + Enter] ⚠️Ensure reproducibility\n",
        "\n",
        "# use seed to ensure reproducibility\n",
        "SEED = 666013\n",
        "os.environ['PYTHONHASHSEED'] = str(SEED)\n",
        "random.seed(SEED)\n",
        "np.random.seed(SEED)\n",
        "torch.manual_seed(SEED)\n",
        "torch.cuda.manual_seed(SEED)\n",
        "torch.cuda.manual_seed_all(SEED)\n",
        "\n",
        "torch.backends.cudnn.benchmark = False\n",
        "torch.backends.cudnn.deterministic = True"
      ],
      "metadata": {
        "cellView": "form",
        "id": "EkSIJXeEMiB6"
      },
      "execution_count": null,
      "outputs": []
    },
    {
      "cell_type": "code",
      "source": [
        "# @title [RUN] Helper functions\n",
        "\n",
        "import io\n",
        "import itertools\n",
        "from sklearn.metrics import confusion_matrix\n",
        "\n",
        "# Load the TensorBoard notebook extension\n",
        "%load_ext tensorboard\n",
        "\n",
        "def gallery(images, labels, predictions=None, num_rows=5):\n",
        "    num = min(10, images.shape[0])\n",
        "    labels = np.array([metadata['label'][str(x)] for x in labels])\n",
        "\n",
        "    if predictions is not None:\n",
        "        predictions = np.array([metadata['label'][str(x)] for x in predictions])\n",
        "\n",
        "    for _ in range(num_rows):\n",
        "        selected_indices = np.random.choice(range(len(labels)), num)\n",
        "        selected_images = images[selected_indices]\n",
        "        selected_labels = labels[selected_indices]\n",
        "\n",
        "        if predictions is not None:\n",
        "            selected_predictions = predictions[selected_indices]\n",
        "\n",
        "        fig, ax = plt.subplots(1, num, figsize=(20, 20))\n",
        "        for i in range(num):\n",
        "            img = selected_images[i]\n",
        "            ax[i].axis('off')\n",
        "            ax[i].imshow(img, cmap='gray')\n",
        "            ax[i].set_title(selected_labels[i])\n",
        "\n",
        "        plt.show()\n",
        "\n",
        "def plot_class_distribution(labels):\n",
        "    fig, ax = plt.subplots(figsize=(10, 10))\n",
        "    ax.hist(train_dataset.labels, bins=22, orientation='horizontal', color='purple')\n",
        "    plt.yticks(range(11))\n",
        "    plt.title(\"Number of samples for each class\")\n",
        "    ax.set_yticklabels(metadata['label'].values())\n",
        "\n",
        "    plt.show()\n",
        "\n",
        "def create_dirs(path_list):\n",
        "    \"\"\"Creates non-existing directories\"\"\"\n",
        "\n",
        "    for path in path_list:\n",
        "        if os.path.exists(path) == False:\n",
        "            os.makedirs(path)\n",
        "\n",
        "def get_confusion_matrix_image(y_true, y_pred, class_names):\n",
        "    \"\"\"\n",
        "    Returns a numpy array containing the plotted confusion matrix.\n",
        "    \"\"\"\n",
        "    cm = confusion_matrix(y_true, y_pred)\n",
        "    \n",
        "    fig = plt.figure(figsize=(10, 10))\n",
        "    plt.imshow(cm, interpolation='nearest', cmap=plt.cm.Blues)\n",
        "    plt.title(\"Confusion matrix\")\n",
        "    plt.colorbar()\n",
        "    tick_marks = np.arange(len(class_names))\n",
        "    plt.xticks(tick_marks, class_names, rotation=45)\n",
        "    plt.yticks(tick_marks, class_names)\n",
        "    \n",
        "    # Normalize the confusion matrix.\n",
        "    cm = np.around(cm.astype('float') / cm.sum(axis=1)[:, np.newaxis], decimals=2)\n",
        "    \n",
        "    # Use white text if squares are dark; otherwise black.\n",
        "    threshold = cm.max() / 2.\n",
        "    \n",
        "    for i, j in itertools.product(range(cm.shape[0]), range(cm.shape[1])):\n",
        "        color = \"white\" if cm[i, j] > threshold else \"black\"\n",
        "        plt.text(j, i, cm[i, j], horizontalalignment=\"center\", color=color)\n",
        "        \n",
        "    # plt.tight_layout()\n",
        "    plt.ylabel('True label')\n",
        "    plt.xlabel('Predicted label')\n",
        "\n",
        "    with io.BytesIO() as buff:\n",
        "        fig.savefig(buff, format='raw')\n",
        "        buff.seek(0)\n",
        "        data = np.frombuffer(buff.getvalue(), dtype=np.uint8)\n",
        "\n",
        "    w, h = fig.canvas.get_width_height()\n",
        "    img = data.reshape((int(h), int(w), -1))\n",
        "    \n",
        "    plt.close(fig)\n",
        "\n",
        "    return img\n",
        "\n",
        "def num_parameters(model):\n",
        "  \"\"\"Returns the number of parameters of a model\"\"\"\n",
        "  num = 0\n",
        "  for param in model.parameters():\n",
        "    num += len(param.view(-1))\n",
        "  return num"
      ],
      "metadata": {
        "id": "Dd6Ux3NPj-uE",
        "cellView": "form"
      },
      "execution_count": null,
      "outputs": []
    },
    {
      "cell_type": "markdown",
      "source": [
        "## **Data, data and then data**"
      ],
      "metadata": {
        "id": "ohGk4jhZhdQ2"
      }
    },
    {
      "cell_type": "code",
      "source": [
        "dataset_name = 'organsmnist'\n",
        "\n",
        "# data about the OrganSMNIST dataset\n",
        "metadata = INFO[dataset_name]"
      ],
      "metadata": {
        "id": "xsSmRtxRhsux"
      },
      "execution_count": null,
      "outputs": []
    },
    {
      "cell_type": "code",
      "source": [
        "# @title [RUN] Download dataset\n",
        "data_path = os.path.join(ROOT, dataset_name + '.npz')\n",
        "\n",
        "if os.path.exists(data_path) == False:\n",
        "    from torchvision.datasets.utils import download_url\n",
        "    download_url(url=metadata[\"url\"],\n",
        "                root=ROOT,\n",
        "                filename=dataset_name + \".npz\",\n",
        "                md5=metadata[\"MD5\"])\n",
        "else:\n",
        "    print(dataset_name + \" dataset has already been downloaded at:\" + data_path)"
      ],
      "metadata": {
        "cellView": "form",
        "id": "nJX1QtCSmmlk"
      },
      "execution_count": null,
      "outputs": []
    },
    {
      "cell_type": "markdown",
      "source": [
        "**About the data:** medical images and OrganMNIST"
      ],
      "metadata": {
        "id": "4njbLAHW593V"
      }
    },
    {
      "cell_type": "markdown",
      "source": [
        "<figure>\n",
        "<img src=\"https://raw.githubusercontent.com/uci-cbcl/NoduleNet/master/figures/demo_raw.gif\" alt=\"CT scan\">\n",
        "<figcaption>Chest computed tomography (CT) scan.</figcaption>\n",
        "</figure>\n",
        "\n"
      ],
      "metadata": {
        "id": "wGg2elCMMwAm"
      }
    },
    {
      "cell_type": "markdown",
      "source": [
        "**`MedicalMNISTDataset`** For our custom `MedicalMNISTDataset` class, we have to implement the following functions:\n",
        "\n",
        "* the constructor:\n",
        "\n",
        "> `__init__(self, npz_file_path, split)`\n",
        "\n",
        "* a function to indicate the number of samples in the dataset:\n",
        "\n",
        "> `__len__(self)`\n",
        "\n",
        "* a getter function that returns the `idx'`th image and corresponding label of the dataset:\n",
        "\n",
        "> `__getitem__(self, idx)`\n",
        "\n"
      ],
      "metadata": {
        "id": "u94B0b-hof_T"
      }
    },
    {
      "cell_type": "code",
      "source": [
        "class MedicalMNISTDataset(Dataset):\n",
        "    def __init__(self, npz_file_path, split, transforms):\n",
        "        npz_file = np.load(npz_file_path)\n",
        "        self.split = split\n",
        "        self.transforms = transforms\n",
        "        \n",
        "        if self.split == 'train':\n",
        "            self.images = npz_file['train_images']\n",
        "            self.labels = npz_file['train_labels'].squeeze(1)\n",
        "        else:\n",
        "            self.images = npz_file['val_images']\n",
        "            self.labels = npz_file['val_labels'].squeeze(1)\n",
        "    \n",
        "    def __len__(self):\n",
        "        return self.images.shape[0]\n",
        "  \n",
        "    def __getitem__(self, idx):\n",
        "        images, labels = self.images[idx], self.labels[idx]\n",
        "        images = self.transforms(images)\n",
        "\n",
        "        return images, labels"
      ],
      "metadata": {
        "id": "YNz-zKHOmpuy"
      },
      "execution_count": null,
      "outputs": []
    },
    {
      "cell_type": "markdown",
      "source": [
        "**Batch size** = the number of samples that will propagate through the neural network at a certain pass."
      ],
      "metadata": {
        "id": "XvEGyJyxVacL"
      }
    },
    {
      "cell_type": "code",
      "source": [
        "img_transforms = transforms.Compose([\n",
        "    transforms.ToPILImage(),\n",
        "    transforms.Resize(64),\n",
        "    transforms.ToTensor()\n",
        "])"
      ],
      "metadata": {
        "id": "Kr5vjFt37oPE"
      },
      "execution_count": null,
      "outputs": []
    },
    {
      "cell_type": "code",
      "source": [
        "BATCH_SIZE = 64\n",
        "\n",
        "train_dataset = MedicalMNISTDataset(data_path, 'train', img_transforms)\n",
        "valid_dataset = MedicalMNISTDataset(data_path, 'valid', img_transforms)\n",
        "\n",
        "print(\"Number of training samples:\", len(train_dataset))\n",
        "print(\"Number of validation samples:\", len(valid_dataset))\n",
        "\n",
        "train_loader = DataLoader(train_dataset, batch_size=BATCH_SIZE, shuffle=True)\n",
        "valid_loader = DataLoader(valid_dataset, batch_size=BATCH_SIZE, shuffle=False)"
      ],
      "metadata": {
        "id": "YRk1uCIpTPkq"
      },
      "execution_count": null,
      "outputs": []
    },
    {
      "cell_type": "markdown",
      "source": [
        "### Visualize data"
      ],
      "metadata": {
        "id": "FAcrj9xcr0tL"
      }
    },
    {
      "cell_type": "code",
      "source": [
        "gallery(train_dataset.images, train_dataset.labels)"
      ],
      "metadata": {
        "id": "ARmZVikkvq_y"
      },
      "execution_count": null,
      "outputs": []
    },
    {
      "cell_type": "code",
      "source": [
        "plot_class_distribution(train_dataset.labels)"
      ],
      "metadata": {
        "id": "dHGDAWHlEeRe"
      },
      "execution_count": null,
      "outputs": []
    },
    {
      "cell_type": "markdown",
      "source": [
        "## **Define model, optimizer, loss, hyperparameters and tensorboard writer**\n",
        "<a name=\"start_training\"></a>"
      ],
      "metadata": {
        "id": "8zdAAaIMtCjI"
      }
    },
    {
      "cell_type": "code",
      "source": [
        "EXPERIMENT_NAME = \"baseline\" #@param {type:\"string\"}\n",
        "NUM_EPOCHS = 15 #@param {type:\"integer\"}\n",
        "LEARNING_RATE = 1e-2 #@param {type:\"number\"}"
      ],
      "metadata": {
        "id": "tyeygOIYvuKq",
        "cellView": "form"
      },
      "execution_count": null,
      "outputs": []
    },
    {
      "cell_type": "code",
      "source": [
        "# @title [RUN] Create useful folders\n",
        "\n",
        "model_path = os.path.join(ROOT, EXPERIMENT_NAME, 'checkpoints')\n",
        "tensorboard_path = os.path.join(ROOT, EXPERIMENT_NAME)\n",
        "\n",
        "create_dirs([model_path, tensorboard_path])"
      ],
      "metadata": {
        "cellView": "form",
        "id": "7qjs-xZvLzFS"
      },
      "execution_count": null,
      "outputs": []
    },
    {
      "cell_type": "markdown",
      "source": [
        "**VGG16 architecture**\n",
        "\n",
        "![vgg16-neural-network.jpg](data:image/jpeg;base64,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)"
      ],
      "metadata": {
        "id": "LWRQNXdYXqFC"
      }
    },
    {
      "cell_type": "code",
      "source": [
        "# Torchvision implementation of VGG16\n",
        "model = torchvision.models.vgg16()"
      ],
      "metadata": {
        "id": "FlOi52Sw1taj"
      },
      "execution_count": null,
      "outputs": []
    },
    {
      "cell_type": "code",
      "source": [
        "# Visualise layers\n",
        "model"
      ],
      "metadata": {
        "id": "zIsTIaXp1uyN"
      },
      "execution_count": null,
      "outputs": []
    },
    {
      "cell_type": "markdown",
      "source": [
        "**✔️Task:** How to adapt this model to make it compatible with our setup?\n",
        "\n",
        "**💡Hints:**\n",
        "* Our images are **`grayscale`**\n",
        "* You can find the number of classes by looking at the **table above**\n",
        "* Look at the first and last layer of the model visualization. Just two parameters have to be changes. Keep the others the same.\n",
        "\n",
        "**Pytorch documentation**\n",
        "```\n",
        "torch.nn.Conv2d(in_channels, out_channels, kernel_size, stride=1, padding=0, dilation=1, \n",
        "    groups=1, bias=True, padding_mode='zeros', device=None, dtype=None)\n",
        "```\n",
        "```\n",
        "torch.nn.Linear(in_features, out_features, bias=True, device=None, dtype=None)\n",
        "```\n",
        "\n"
      ],
      "metadata": {
        "id": "e5CuoUrv3ZF1"
      }
    },
    {
      "cell_type": "code",
      "source": [
        "# @markdown **First Conv Layer (0)**\n",
        "\n",
        "# @markdown Just **in_channels** should be different compared to our existing model displayed above. Padding and kernel_size can be typed either as a tuple \"(n, n)\" or an int \"n\".\n",
        "in_channels = None #@param\n",
        "out_channels = None #@param\n",
        "kernel_size = None #@param\n",
        "padding = None #@param\n",
        "# @markdown **Last Linear layer (6)**\n",
        "\n",
        "# @markdown Just **out_features** should be different compared to our existing model displayed above.\n",
        "out_features = None #@param\n",
        "in_features = None #@param\n",
        "bias = None #@param\n",
        "\n",
        "\n",
        "model.features[0] = nn.Conv2d(in_channels, out_channels, kernel_size=kernel_size, padding=padding)\n",
        "model.classifier[6] = nn.Linear(in_features=in_features, out_features=out_features, bias=bias) # this is the answer"
      ],
      "metadata": {
        "id": "PuR2--R91yYa",
        "cellView": "form"
      },
      "execution_count": null,
      "outputs": []
    },
    {
      "cell_type": "code",
      "source": [
        "# Our new model\n",
        "model"
      ],
      "metadata": {
        "id": "O3J3JTW-y02X"
      },
      "execution_count": null,
      "outputs": []
    },
    {
      "cell_type": "code",
      "source": [
        "# @title Don't look at this cell before I reveal the answer! ⚠️ Run if you got stuck \n",
        "\n",
        "model = torchvision.models.vgg16()\n",
        "model.features[0] = nn.Conv2d(1, 64, kernel_size=(3, 3), padding=(1, 1)) # this is the answer\n",
        "model.classifier[6] = nn.Linear(in_features=4096, out_features=len(metadata['label']), bias=True) # this is the answer"
      ],
      "metadata": {
        "cellView": "form",
        "id": "2-bISxX4ur-o"
      },
      "execution_count": null,
      "outputs": []
    },
    {
      "cell_type": "code",
      "source": [
        "# move model to GPU or CPU\n",
        "model = model.to(device)"
      ],
      "metadata": {
        "id": "oKi-h7MQ3pRb"
      },
      "execution_count": null,
      "outputs": []
    },
    {
      "cell_type": "code",
      "source": [
        "criterion = nn.CrossEntropyLoss()\n",
        "optimizer = torch.optim.SGD(model.parameters(), lr=LEARNING_RATE)\n",
        "writer = SummaryWriter(tensorboard_path)"
      ],
      "metadata": {
        "id": "yVR30A5qtMxL"
      },
      "execution_count": null,
      "outputs": []
    },
    {
      "cell_type": "markdown",
      "source": [
        "## 🛠 **Training the model**"
      ],
      "metadata": {
        "id": "2567D-IBr7IK"
      }
    },
    {
      "cell_type": "code",
      "source": [
        "def validate(model, valid_loader, criterion, writer, epoch):\n",
        "  valid_predictions, valid_targets = [], []\n",
        "  mean_valid_loss = 0\n",
        "\n",
        "  model.eval()\n",
        "\n",
        "  # Do not compute gradients\n",
        "  with torch.no_grad():\n",
        "    for batch in valid_loader:\n",
        "      # Each batch contains BATCH_SIZE number of images and corresponding labels\n",
        "      images, targets = batch\n",
        "      images, targets = images.to(device), targets.to(device)\n",
        "\n",
        "      # forward step\n",
        "      output = model(images)\n",
        "      loss = criterion(output, targets)\n",
        "\n",
        "      # select the class with the highest value (i.e. probability after\n",
        "      # applying softmax)\n",
        "      output = output.argmax(dim=1)\n",
        "\n",
        "      valid_predictions.append(output.cpu().numpy())\n",
        "      valid_targets.append(targets.cpu().numpy())\n",
        "      mean_valid_loss += loss.item()\n",
        "\n",
        "  mean_valid_loss /= len(valid_loader)\n",
        "  valid_targets = np.concatenate(valid_targets)\n",
        "  valid_predictions = np.concatenate(valid_predictions)\n",
        "\n",
        "  # compute accuracy\n",
        "  accuracy = np.sum(valid_targets == valid_predictions) / len(valid_predictions)\n",
        "  # compute confusion matrix and create an image of it\n",
        "  img = get_confusion_matrix_image(valid_targets, valid_predictions, metadata['label'].values())\n",
        "\n",
        "  print(f\"valid loss: {mean_valid_loss} | Valid accuracy: {accuracy}\")\n",
        "\n",
        "  # plot metrics and confusion matrix in tensorboard\n",
        "  writer.add_scalar('Valid/accuracy', accuracy, epoch)\n",
        "  writer.add_scalar('Valid/loss', mean_valid_loss, epoch)\n",
        "  writer.add_image('Valid/confusion_matrix', img, epoch, dataformats='HWC')"
      ],
      "metadata": {
        "id": "Vo9MZL0usb1m"
      },
      "execution_count": null,
      "outputs": []
    },
    {
      "cell_type": "code",
      "source": [
        "# @title [RUN] Launch Tensorboard\n",
        "\n",
        "# @markdown Select SCALARS from the dropdown menu (top right)\n",
        "\n",
        "# @markdown Refresh using the circle arrow (top right)\n",
        "%tensorboard --logdir {ROOT}"
      ],
      "metadata": {
        "id": "eC6Lx65XPZ1a",
        "cellView": "form"
      },
      "execution_count": null,
      "outputs": []
    },
    {
      "cell_type": "code",
      "source": [
        "for epoch in trange(NUM_EPOCHS, desc='Epoch'):\n",
        "  mean_train_loss, mean_accuracy = 0, 0\n",
        "\n",
        "  model.train()\n",
        "\n",
        "  for batch in tqdm(train_loader, total=len(train_loader), desc=f\"Train{epoch}\"):\n",
        "    images, targets = batch\n",
        "    images, targets = images.to(device), targets.to(device)\n",
        "\n",
        "    # forward step\n",
        "    output = model(images)\n",
        "    loss = criterion(output, targets)\n",
        "\n",
        "    # compute gradients\n",
        "    loss.backward()\n",
        "\n",
        "    # update weights\n",
        "    optimizer.step()\n",
        "\n",
        "    # clear gradients\n",
        "    optimizer.zero_grad()\n",
        "\n",
        "    output = output.argmax(dim=1)\n",
        "    accuracy = (output == targets).sum() / len(targets)\n",
        "    mean_accuracy += accuracy.item()\n",
        "    mean_train_loss += loss.item()\n",
        "  \n",
        "  mean_accuracy /= len(train_loader)\n",
        "  mean_train_loss /= len(train_loader)\n",
        "\n",
        "  # plot metrics and confusion matrix in tensorboard\n",
        "  writer.add_scalar('Train/accuracy', accuracy, epoch)\n",
        "  writer.add_scalar('Train/loss', mean_train_loss, epoch)\n",
        "\n",
        "  print(f\"Train loss: {mean_train_loss} | Train accuracy: {mean_accuracy}\")\n",
        "\n",
        "  # valid step\n",
        "  validate(model, valid_loader, criterion, writer, epoch)"
      ],
      "metadata": {
        "id": "86yc41e2tAqz"
      },
      "execution_count": null,
      "outputs": []
    },
    {
      "cell_type": "markdown",
      "source": [
        "### Additional tasks\n",
        "*  Change `LEARNING_RATE` to 0.1 and maybe decrease the number of epochs. Make sure you change the Experiment Name. [⬆️](#start_training)"
      ],
      "metadata": {
        "id": "-nSom4pdytFu"
      }
    },
    {
      "cell_type": "code",
      "source": [],
      "metadata": {
        "id": "MchMxpCjWXuk"
      },
      "execution_count": null,
      "outputs": []
    }
  ]
}
